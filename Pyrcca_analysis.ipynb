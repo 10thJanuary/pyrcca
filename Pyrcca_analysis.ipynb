{
 "metadata": {
  "name": "",
  "signature": "sha256:78146f169c2e5df53c492a5a1981cfe4e2c2b57574d278052c61787e5ea42bf2"
 },
 "nbformat": 3,
 "nbformat_minor": 0,
 "worksheets": [
  {
   "cells": [
    {
     "cell_type": "heading",
     "level": 1,
     "metadata": {},
     "source": [
      "Analysis of neuroimaging data using Pyrcca"
     ]
    },
    {
     "cell_type": "markdown",
     "metadata": {},
     "source": [
      "This notebook contains analyses and the figures for a Pyrcca analysis on a natural movie fMRI dataset described in the following pre-print publication:\n",
      "\n",
      "<<ARXIV LINK>>\n",
      "\n",
      "Download the Pyrcca code from this GitHub repository:\n",
      "https://github.com/gallantlab/pyrcca\n",
      "\n",
      "The dataset used in this notebook is publicly available on on CRCNS:\n",
      "Nishimoto, S., Vu, A. T., Naselaris, T., Benjamini, Y., Yu, B., Gallant, J. L. (2014): Gallant Lab Natural Movie 4T fMRI Data. CRCNS.org.\n",
      "http://dx.doi.org/10.6080/K00Z715X\n",
      "\n",
      "Details of the experiments are described in the original publication about this data:\n",
      "Nishimoto, S., Vu, A. T., Naselaris, T., Benjamini, Y., Yu, B., and Gallant, J. L. (2011). Reconstructing visual experiences from brain activity evoked by natural movies. Current Biology, 21(19), 1641-1646."
     ]
    },
    {
     "cell_type": "heading",
     "level": 2,
     "metadata": {},
     "source": [
      "Imports"
     ]
    },
    {
     "cell_type": "code",
     "collapsed": false,
     "input": [
      "import h5py\n",
      "import rcca\n",
      "import sys\n",
      "import numpy as np\n",
      "zscore = lambda d: (d-d.mean(0))/d.std(0)"
     ],
     "language": "python",
     "metadata": {},
     "outputs": [],
     "prompt_number": 2
    },
    {
     "cell_type": "heading",
     "level": 2,
     "metadata": {},
     "source": [
      "Load data from CRCNS"
     ]
    },
    {
     "cell_type": "markdown",
     "metadata": {},
     "source": [
      "To run this code, download data from CRCNS: http://crcns.org/data-sets/vc/vim-2\n",
      "The following analysis assumes that the data are located in a directory inside the current directory nameded \"data\"."
     ]
    },
    {
     "cell_type": "code",
     "collapsed": false,
     "input": [
      "data = []\n",
      "vdata = []\n",
      "numSubjects = 3\n",
      "dataPath = \"./VoxelResponses_subject%d.mat\"\n",
      "\n",
      "for subj in range(numSubjects):\n",
      "    f = h5py.File(dataPath % (subj+1),'r')\n",
      "    datasize = (int(f[\"ei\"][\"datasize\"].value[2]),int(f[\"ei\"][\"datasize\"].value[1]),int(f[\"ei\"][\"datasize\"].value[0]))\n",
      "    roimat = np.zeros(datasize)\n",
      "    rois = f[\"roi\"].keys()\n",
      "    for roi in rois:\n",
      "        roimat += f[\"roi\"][roi].value\n",
      "    roimat = roimat>0\n",
      "    data_subj = np.nan_to_num(zscore(np.nan_to_num(f[\"rt\"].value.T)))\n",
      "    data.append(data_subj.reshape((data_subj.shape[0],)+datasize)[:, roimat])\n",
      "    vdata_subj = np.nan_to_num(zscore(np.nan_to_num(f[\"rv\"].value.T)))\n",
      "    vdata.append(vdata_subj.reshape((vdata_subj.shape[0],)+datasize)[:, roimat])"
     ],
     "language": "python",
     "metadata": {},
     "outputs": []
    },
    {
     "cell_type": "heading",
     "level": 2,
     "metadata": {},
     "source": [
      "Define CCA parameters"
     ]
    },
    {
     "cell_type": "code",
     "collapsed": false,
     "input": [
      "numCCs = np.arange(3, 10)\n",
      "regs = np.array(np.logspace(-3, 1, 10))\n",
      "cca = rcca.CCACrossValidate(numCCs=numCCs, regs=regs)"
     ],
     "language": "python",
     "metadata": {},
     "outputs": []
    },
    {
     "cell_type": "heading",
     "level": 1,
     "metadata": {},
     "source": [
      "Run and save the analysis"
     ]
    },
    {
     "cell_type": "code",
     "collapsed": false,
     "input": [
      "cca.train(data)\n",
      "cca.validate(data)\n",
      "cca.save(\"CCA_results.pkl\")"
     ],
     "language": "python",
     "metadata": {},
     "outputs": []
    },
    {
     "cell_type": "heading",
     "level": 3,
     "metadata": {},
     "source": [
      "Compute variance explained (computationally intensive)"
     ]
    },
    {
     "cell_type": "code",
     "collapsed": false,
     "input": [
      "cca.compute_ev(data)\n",
      "cca.save(\"CCA_results.pkl\")"
     ],
     "language": "python",
     "metadata": {},
     "outputs": []
    },
    {
     "cell_type": "heading",
     "level": 2,
     "metadata": {},
     "source": [
      "Visualize results for one of the subjects"
     ]
    },
    {
     "cell_type": "heading",
     "level": 3,
     "metadata": {},
     "source": [
      "Plot correlation histogram"
     ]
    },
    {
     "cell_type": "code",
     "collapsed": false,
     "input": [
      "%matplotlib inline\n",
      "import matplotlib.pyplot as plt\n",
      "\n",
      "f = plt.figure(figsize = (8, 6))\n",
      "ax = f.add_subplot(111)\n",
      "ax.hist(cca.corrs[0], bins = 20, color = \"#1f77b4\", alpha = 0.5)\n",
      "ax.set_title(\"Prediction performance across voxels\")"
     ],
     "language": "python",
     "metadata": {},
     "outputs": [
      {
       "ename": "NameError",
       "evalue": "name 'cca' is not defined",
       "output_type": "pyerr",
       "traceback": [
        "\u001b[0;31m---------------------------------------------------------------------------\u001b[0m\n\u001b[0;31mNameError\u001b[0m                                 Traceback (most recent call last)",
        "\u001b[0;32m<ipython-input-4-df7d7deef5f3>\u001b[0m in \u001b[0;36m<module>\u001b[0;34m()\u001b[0m\n\u001b[1;32m      4\u001b[0m \u001b[0mf\u001b[0m \u001b[0;34m=\u001b[0m \u001b[0mplt\u001b[0m\u001b[0;34m.\u001b[0m\u001b[0mfigure\u001b[0m\u001b[0;34m(\u001b[0m\u001b[0mfigsize\u001b[0m \u001b[0;34m=\u001b[0m \u001b[0;34m(\u001b[0m\u001b[0;36m8\u001b[0m\u001b[0;34m,\u001b[0m \u001b[0;36m6\u001b[0m\u001b[0;34m)\u001b[0m\u001b[0;34m)\u001b[0m\u001b[0;34m\u001b[0m\u001b[0m\n\u001b[1;32m      5\u001b[0m \u001b[0max\u001b[0m \u001b[0;34m=\u001b[0m \u001b[0mf\u001b[0m\u001b[0;34m.\u001b[0m\u001b[0madd_subplot\u001b[0m\u001b[0;34m(\u001b[0m\u001b[0;36m111\u001b[0m\u001b[0;34m)\u001b[0m\u001b[0;34m\u001b[0m\u001b[0m\n\u001b[0;32m----> 6\u001b[0;31m \u001b[0max\u001b[0m\u001b[0;34m.\u001b[0m\u001b[0mhist\u001b[0m\u001b[0;34m(\u001b[0m\u001b[0mcca\u001b[0m\u001b[0;34m.\u001b[0m\u001b[0mcorrs\u001b[0m\u001b[0;34m[\u001b[0m\u001b[0;36m0\u001b[0m\u001b[0;34m]\u001b[0m\u001b[0;34m,\u001b[0m \u001b[0mbins\u001b[0m \u001b[0;34m=\u001b[0m \u001b[0;36m20\u001b[0m\u001b[0;34m,\u001b[0m \u001b[0mcolor\u001b[0m \u001b[0;34m=\u001b[0m \u001b[0;34m\"#1f77b4\"\u001b[0m\u001b[0;34m,\u001b[0m \u001b[0malpha\u001b[0m \u001b[0;34m=\u001b[0m \u001b[0;36m0.5\u001b[0m\u001b[0;34m)\u001b[0m\u001b[0;34m\u001b[0m\u001b[0m\n\u001b[0m\u001b[1;32m      7\u001b[0m \u001b[0max\u001b[0m\u001b[0;34m.\u001b[0m\u001b[0mset_title\u001b[0m\u001b[0;34m(\u001b[0m\u001b[0;34m\"Prediction performance across voxels\"\u001b[0m\u001b[0;34m)\u001b[0m\u001b[0;34m\u001b[0m\u001b[0m\n\u001b[1;32m      8\u001b[0m \u001b[0mf\u001b[0m\u001b[0;34m.\u001b[0m\u001b[0msavefig\u001b[0m\u001b[0;34m(\u001b[0m\u001b[0mfigdir\u001b[0m\u001b[0;34m+\u001b[0m\u001b[0;34m\"SN_corrs_hist.png\"\u001b[0m\u001b[0;34m)\u001b[0m\u001b[0;34m\u001b[0m\u001b[0m\n",
        "\u001b[0;31mNameError\u001b[0m: name 'cca' is not defined"
       ]
      },
      {
       "metadata": {},
       "output_type": "display_data",
       "png": "[encoded data removed]",
       "text": [
        "<matplotlib.figure.Figure at 0x10e36a8d0>"
       ]
      }
     ],
     "prompt_number": 4
    },
    {
     "cell_type": "heading",
     "level": 3,
     "metadata": {},
     "source": [
      "Plot average correlation for regions of interest"
     ]
    },
    {
     "cell_type": "markdown",
     "metadata": {},
     "source": [
      "First, load the ROI information for the subject again"
     ]
    },
    {
     "cell_type": "code",
     "collapsed": false,
     "input": [
      "f = h5py.File(dataPath % (1),'r')\n",
      "datasize = (int(f[\"ei\"][\"datasize\"].value[2]),int(f[\"ei\"][\"datasize\"].value[1]),int(f[\"ei\"][\"datasize\"].value[0]))\n",
      "roimat = np.zeros(datasize)\n",
      "rois = f[\"roi\"].keys()\n",
      "for roi in rois:\n",
      "    roimat += f[\"roi\"][roi].value\n",
      "roimat = roimat>0"
     ],
     "language": "python",
     "metadata": {},
     "outputs": []
    },
    {
     "cell_type": "markdown",
     "metadata": {},
     "source": [
      "Now, compute the mean correlation and variance for each ROI"
     ]
    },
    {
     "cell_type": "code",
     "collapsed": false,
     "input": [
      "rois = [\"V1\", \"V2\", \"V3\", \"V3A\", \"V3B\", \"V4\", \"LO\", \"MT+\", \"IPS\"]\n",
      "\n",
      "rois_dict = {\"V1\": [\"v1lh\", \"v1rh\"], \"V2\": [\"v2lh\", \"v2rh\"], \"V3\": [\"v3alh\", \"v3arh\"], \"V3A\": [\"v3alh\", \"v3arh\"], \"V3B\": [\"v3blh\", \"v3brh\"],\n",
      "             \"V4\": [\"v4lh\", \"v4rh\"], \"LO\": [\"latocclh\", \"latoccrh\"], \"IPS\": [\"IPlh\", \"IPrh\"],\n",
      "             \"MT+\": [\"MTlh\", \"MTrh\", \"MTplh\", \"MTprh\"]}\n",
      "\n",
      "roimasks = [np.sum(np.array([f[\"roi\"].[subroi].value for subroi in rois_dict[roi]]), 0) for roi in rois if roi in rois_dict.keys()]\n",
      "\n",
      "\n",
      "corrvol = np.zeros(datasize)\n",
      "corrvol[roimat] = cca.corrs[0]\n",
      "roimeans = [np.nan_to_num(corrvol[mask>0]).mean() for mask in roimasks]\n",
      "roivars = [np.nan_to_num(corrvol[mask>0]).var() for mask in roimasks]\n",
      "f1 = plt.figure()\n",
      "ax1 = f1.add_subplot(111)\n",
      "ax1.bar(0.5+np.arange(len(roimeans)), roimeans, yerr = roivars, ecolor = \"black\", color = \"#FF7F0E\")\n",
      "ax1.set_xticks(1.+np.arange(len(roimeans)))\n",
      "ax1.set_xticklabels(rois)\n",
      "ax1.set_title(\"Average prediction performance across ROIs\")"
     ],
     "language": "python",
     "metadata": {},
     "outputs": []
    },
    {
     "cell_type": "heading",
     "level": 3,
     "metadata": {},
     "source": [
      "Cortical map plots"
     ]
    },
    {
     "cell_type": "markdown",
     "metadata": {},
     "source": [
      "To plot correlations, canonical weights, and variance explained per voxel on the cortical surface of the subject, a few manual steps are needed.\n",
      "\n",
      "First, pycortex software is needed for visualization, available here:\n",
      "http://pycortex.org/\n",
      "\n",
      "Then, the subject's anatomical files (available on CRCNS) must be used to create a surface. We recommend Freesurfer:\n",
      "http://freesurfer.net/\n",
      "\n",
      "Freesurfer surface can be imported into pycortex and aligned with the functional data. Once this step is complete, the following figures can be made.\n",
      "\n",
      "Below, it is assumed that the subjName is the pycortex code for subject 1 in the analysis, and subjTransform is the name of the functional-anatomical transform in the pycortex database."
     ]
    },
    {
     "cell_type": "heading",
     "level": 5,
     "metadata": {},
     "source": [
      "Correlation map"
     ]
    },
    {
     "cell_type": "code",
     "collapsed": false,
     "input": [
      "import cortex\n",
      "corrvol = np.zeros(datasize)\n",
      "corrvol[roimat1] = cca.corrs[0]\n",
      "# Mask out brain regions that weren't scanned\n",
      "corrvol[corrvol==0] = nan\n",
      "cortex.quickflat.make_png(\"S1_correlation_map.png\", cortex.Volume(corrvol, subjName, subjTransform, cmap = cm.gist_heat, vmin = 0., vmax = 1.), with_curvature = True)"
     ],
     "language": "python",
     "metadata": {},
     "outputs": []
    },
    {
     "cell_type": "heading",
     "level": 5,
     "metadata": {},
     "source": [
      "Canonical weight maps"
     ]
    },
    {
     "cell_type": "code",
     "collapsed": false,
     "input": [
      "compvol = np.zeros(datasize)\n",
      "for i in range(cca.best_numCC):\n",
      "    compvol[roimat] = cca.ws[0].T[i]\n",
      "    # Mask out brain regions that weren't scanned\n",
      "    compvol[compvol == 0] = nan\n",
      "    cortex.quickflat.make_png(\"S1_component_map%d.png\" %i, cortex.Volume(compvol, subjName, subjTransform, cmap = cm.seismic), with_curvature = True)"
     ],
     "language": "python",
     "metadata": {},
     "outputs": []
    },
    {
     "cell_type": "heading",
     "level": 5,
     "metadata": {},
     "source": [
      "Variance explained maps"
     ]
    },
    {
     "cell_type": "code",
     "collapsed": false,
     "input": [
      "evvol = np.zeros(datasize)\n",
      "for i in range(cca.best_numCC):\n",
      "    evvol[roimat1] = cca.ev[0][i]\n",
      "    # Mask out brain regions that weren't scanned\n",
      "    evvol[evvol == 0] = nan\n",
      "    cortex.quickflat.make_png(\"S1_ev_map%d.png\" %i, cortex.Volume(evvol, subjName, SubjTransform , cmap = cm.gist_heat, vmin = 0., vmax = .6), with_curvature = True)"
     ],
     "language": "python",
     "metadata": {},
     "outputs": []
    }
   ],
   "metadata": {}
  }
 ]
}